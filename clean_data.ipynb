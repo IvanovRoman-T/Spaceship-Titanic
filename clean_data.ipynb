{
 "cells": [
  {
   "cell_type": "markdown",
   "id": "2c7e4723-c4e3-4a02-99ea-6088b1a96c59",
   "metadata": {
    "papermill": {
     "duration": 0.029014,
     "end_time": "2024-03-01T09:13:36.892459",
     "exception": false,
     "start_time": "2024-03-01T09:13:36.863445",
     "status": "completed"
    },
    "tags": []
   },
   "source": [
    "# Заполнение пропусков данных"
   ]
  },
  {
   "cell_type": "code",
   "execution_count": 1,
   "id": "d23d81bd-b060-4819-a854-ca7243479f36",
   "metadata": {
    "tags": []
   },
   "outputs": [],
   "source": [
    "import pandas as pd\n",
    "import numpy as np\n",
    "import matplotlib.pyplot as plt\n",
    "%matplotlib inline\n",
    "import seaborn as sns\n",
    "sns.set()"
   ]
  },
  {
   "cell_type": "code",
   "execution_count": 2,
   "id": "9bbc2ea1-1ae9-4675-9705-b5390f184c1a",
   "metadata": {
    "tags": []
   },
   "outputs": [],
   "source": [
    "train = pd.read_csv('train_1.csv')\n",
    "test = pd.read_csv('test_1.csv')"
   ]
  },
  {
   "cell_type": "markdown",
   "id": "53616315-e9cf-4189-ab32-810c298529c6",
   "metadata": {
    "papermill": {
     "duration": 0.019014,
     "end_time": "2024-03-01T09:13:36.930040",
     "exception": false,
     "start_time": "2024-03-01T09:13:36.911026",
     "status": "completed"
    },
    "tags": []
   },
   "source": [
    "#### HomePlanet"
   ]
  },
  {
   "cell_type": "code",
   "execution_count": 35,
   "id": "dece5bb7-81dc-4f2b-963e-012e20802961",
   "metadata": {
    "execution": {
     "iopub.execute_input": "2024-03-01T09:13:36.969039Z",
     "iopub.status.busy": "2024-03-01T09:13:36.969039Z",
     "iopub.status.idle": "2024-03-01T09:13:36.978253Z",
     "shell.execute_reply": "2024-03-01T09:13:36.977218Z"
    },
    "papermill": {
     "duration": 0.031203,
     "end_time": "2024-03-01T09:13:36.980251",
     "exception": false,
     "start_time": "2024-03-01T09:13:36.949048",
     "status": "completed"
    },
    "tags": []
   },
   "outputs": [
    {
     "data": {
      "text/plain": [
       "HomePlanet\n",
       "Earth     4602\n",
       "Europa    2131\n",
       "Mars      1759\n",
       "Name: count, dtype: int64"
      ]
     },
     "execution_count": 35,
     "metadata": {},
     "output_type": "execute_result"
    }
   ],
   "source": [
    "train.HomePlanet.value_counts()"
   ]
  },
  {
   "cell_type": "code",
   "execution_count": 36,
   "id": "5852ee64-f3c0-4002-9e94-321d2e2e9781",
   "metadata": {
    "execution": {
     "iopub.execute_input": "2024-03-01T09:13:37.020797Z",
     "iopub.status.busy": "2024-03-01T09:13:37.019807Z",
     "iopub.status.idle": "2024-03-01T09:13:37.040296Z",
     "shell.execute_reply": "2024-03-01T09:13:37.039308Z"
    },
    "papermill": {
     "duration": 0.041996,
     "end_time": "2024-03-01T09:13:37.041295",
     "exception": false,
     "start_time": "2024-03-01T09:13:36.999299",
     "status": "completed"
    },
    "tags": []
   },
   "outputs": [
    {
     "data": {
      "text/plain": [
       "HomePlanet\n",
       "Earth     2263\n",
       "Europa    1002\n",
       "Mars       925\n",
       "Name: count, dtype: int64"
      ]
     },
     "execution_count": 36,
     "metadata": {},
     "output_type": "execute_result"
    }
   ],
   "source": [
    "test.HomePlanet.value_counts()"
   ]
  },
  {
   "cell_type": "markdown",
   "id": "5d6bacf3-f114-41e0-9845-0bf1f2604502",
   "metadata": {
    "papermill": {
     "duration": 0.018998,
     "end_time": "2024-03-01T09:13:37.079318",
     "exception": false,
     "start_time": "2024-03-01T09:13:37.060320",
     "status": "completed"
    },
    "tags": []
   },
   "source": [
    "Заполняем пропуски самым популярным значением"
   ]
  },
  {
   "cell_type": "code",
   "execution_count": 37,
   "id": "481c95ca-57f0-4276-81ca-72bcca919dd3",
   "metadata": {
    "execution": {
     "iopub.execute_input": "2024-03-01T09:13:37.118860Z",
     "iopub.status.busy": "2024-03-01T09:13:37.117884Z",
     "iopub.status.idle": "2024-03-01T09:13:37.134362Z",
     "shell.execute_reply": "2024-03-01T09:13:37.133344Z"
    },
    "papermill": {
     "duration": 0.038037,
     "end_time": "2024-03-01T09:13:37.136365",
     "exception": false,
     "start_time": "2024-03-01T09:13:37.098328",
     "status": "completed"
    },
    "tags": []
   },
   "outputs": [],
   "source": [
    "train['HomePlanet'] = train['HomePlanet'].fillna('Earth')\n",
    "test['HomePlanet'] = test['HomePlanet'].fillna('Earth')"
   ]
  },
  {
   "cell_type": "code",
   "execution_count": 38,
   "id": "84d77e5d-a80a-4998-afaa-e8ef35b2548b",
   "metadata": {
    "execution": {
     "iopub.execute_input": "2024-03-01T09:13:37.175369Z",
     "iopub.status.busy": "2024-03-01T09:13:37.174378Z",
     "iopub.status.idle": "2024-03-01T09:13:37.197173Z",
     "shell.execute_reply": "2024-03-01T09:13:37.194820Z"
    },
    "papermill": {
     "duration": 0.043848,
     "end_time": "2024-03-01T09:13:37.198207",
     "exception": false,
     "start_time": "2024-03-01T09:13:37.154359",
     "status": "completed"
    },
    "tags": []
   },
   "outputs": [
    {
     "data": {
      "text/plain": [
       "HomePlanet\n",
       "Earth     4803\n",
       "Europa    2131\n",
       "Mars      1759\n",
       "Name: count, dtype: int64"
      ]
     },
     "execution_count": 38,
     "metadata": {},
     "output_type": "execute_result"
    }
   ],
   "source": [
    "train.HomePlanet.value_counts()"
   ]
  },
  {
   "cell_type": "markdown",
   "id": "e98c5d6b-17b1-486d-ab8d-9ce8341ca254",
   "metadata": {
    "papermill": {
     "duration": 0.019023,
     "end_time": "2024-03-01T09:13:37.236823",
     "exception": false,
     "start_time": "2024-03-01T09:13:37.217800",
     "status": "completed"
    },
    "tags": []
   },
   "source": [
    "#### CryoSleep"
   ]
  },
  {
   "cell_type": "code",
   "execution_count": 39,
   "id": "807e3280-2671-45c9-8603-56b389545cb0",
   "metadata": {
    "execution": {
     "iopub.execute_input": "2024-03-01T09:13:37.276794Z",
     "iopub.status.busy": "2024-03-01T09:13:37.275793Z",
     "iopub.status.idle": "2024-03-01T09:13:37.291608Z",
     "shell.execute_reply": "2024-03-01T09:13:37.290588Z"
    },
    "papermill": {
     "duration": 0.03781,
     "end_time": "2024-03-01T09:13:37.293614",
     "exception": false,
     "start_time": "2024-03-01T09:13:37.255804",
     "status": "completed"
    },
    "tags": []
   },
   "outputs": [
    {
     "data": {
      "text/plain": [
       "CryoSleep\n",
       "False    5439\n",
       "True     3037\n",
       "Name: count, dtype: int64"
      ]
     },
     "execution_count": 39,
     "metadata": {},
     "output_type": "execute_result"
    }
   ],
   "source": [
    "train.CryoSleep.value_counts()"
   ]
  },
  {
   "cell_type": "markdown",
   "id": "6f1360f4-6056-4690-8067-86a3a435f6ea",
   "metadata": {
    "papermill": {
     "duration": 0.019017,
     "end_time": "2024-03-01T09:13:37.331222",
     "exception": false,
     "start_time": "2024-03-01T09:13:37.312205",
     "status": "completed"
    },
    "tags": []
   },
   "source": [
    "Заполняем пропуски самым популярным значением"
   ]
  },
  {
   "cell_type": "code",
   "execution_count": 40,
   "id": "cba333b3-8fce-49ae-953a-737f6900e37a",
   "metadata": {
    "execution": {
     "iopub.execute_input": "2024-03-01T09:13:37.372194Z",
     "iopub.status.busy": "2024-03-01T09:13:37.371194Z",
     "iopub.status.idle": "2024-03-01T09:13:37.386151Z",
     "shell.execute_reply": "2024-03-01T09:13:37.384097Z"
    },
    "papermill": {
     "duration": 0.036935,
     "end_time": "2024-03-01T09:13:37.387137",
     "exception": false,
     "start_time": "2024-03-01T09:13:37.350202",
     "status": "completed"
    },
    "tags": []
   },
   "outputs": [
    {
     "name": "stderr",
     "output_type": "stream",
     "text": [
      "C:\\Users\\menin\\AppData\\Local\\Temp\\ipykernel_17740\\603792470.py:1: FutureWarning: Downcasting object dtype arrays on .fillna, .ffill, .bfill is deprecated and will change in a future version. Call result.infer_objects(copy=False) instead. To opt-in to the future behavior, set `pd.set_option('future.no_silent_downcasting', True)`\n",
      "  train['CryoSleep'] = train['CryoSleep'].fillna(False)\n",
      "C:\\Users\\menin\\AppData\\Local\\Temp\\ipykernel_17740\\603792470.py:2: FutureWarning: Downcasting object dtype arrays on .fillna, .ffill, .bfill is deprecated and will change in a future version. Call result.infer_objects(copy=False) instead. To opt-in to the future behavior, set `pd.set_option('future.no_silent_downcasting', True)`\n",
      "  test['CryoSleep'] = test['CryoSleep'].fillna(False)\n"
     ]
    }
   ],
   "source": [
    "train['CryoSleep'] = train['CryoSleep'].fillna(False)\n",
    "test['CryoSleep'] = test['CryoSleep'].fillna(False)"
   ]
  },
  {
   "cell_type": "markdown",
   "id": "b20936ee-ac3e-4f93-a224-72b27c401af0",
   "metadata": {
    "papermill": {
     "duration": 0.018991,
     "end_time": "2024-03-01T09:13:37.425725",
     "exception": false,
     "start_time": "2024-03-01T09:13:37.406734",
     "status": "completed"
    },
    "tags": []
   },
   "source": [
    "#### Cabin_deck"
   ]
  },
  {
   "cell_type": "code",
   "execution_count": 41,
   "id": "c967a3dc-5ba6-4b6b-a628-711aad49ced2",
   "metadata": {
    "execution": {
     "iopub.execute_input": "2024-03-01T09:13:37.466714Z",
     "iopub.status.busy": "2024-03-01T09:13:37.465713Z",
     "iopub.status.idle": "2024-03-01T09:13:37.480067Z",
     "shell.execute_reply": "2024-03-01T09:13:37.479014Z"
    },
    "papermill": {
     "duration": 0.037183,
     "end_time": "2024-03-01T09:13:37.482080",
     "exception": false,
     "start_time": "2024-03-01T09:13:37.444897",
     "status": "completed"
    },
    "tags": []
   },
   "outputs": [
    {
     "data": {
      "text/plain": [
       "Cabin_deck\n",
       "F    2794\n",
       "G    2559\n",
       "E     876\n",
       "B     779\n",
       "C     747\n",
       "D     478\n",
       "A     256\n",
       "T       5\n",
       "Name: count, dtype: int64"
      ]
     },
     "execution_count": 41,
     "metadata": {},
     "output_type": "execute_result"
    }
   ],
   "source": [
    "train.Cabin_deck.value_counts()"
   ]
  },
  {
   "cell_type": "markdown",
   "id": "680581d4-b990-47b2-905e-c5796fd90fd4",
   "metadata": {
    "papermill": {
     "duration": 0.019062,
     "end_time": "2024-03-01T09:13:37.520168",
     "exception": false,
     "start_time": "2024-03-01T09:13:37.501106",
     "status": "completed"
    },
    "tags": []
   },
   "source": [
    "Заполняем пропуски значением из предыдущей строки"
   ]
  },
  {
   "cell_type": "code",
   "execution_count": 42,
   "id": "230e5b43-cd16-4197-aa9f-282f2ab8d70e",
   "metadata": {
    "execution": {
     "iopub.execute_input": "2024-03-01T09:13:37.560163Z",
     "iopub.status.busy": "2024-03-01T09:13:37.560163Z",
     "iopub.status.idle": "2024-03-01T09:13:37.575375Z",
     "shell.execute_reply": "2024-03-01T09:13:37.574397Z"
    },
    "papermill": {
     "duration": 0.037211,
     "end_time": "2024-03-01T09:13:37.577388",
     "exception": false,
     "start_time": "2024-03-01T09:13:37.540177",
     "status": "completed"
    },
    "tags": []
   },
   "outputs": [],
   "source": [
    "train['Cabin_deck'] = train['Cabin_deck'].ffill()\n",
    "test['Cabin_deck'] = test['Cabin_deck'].ffill()"
   ]
  },
  {
   "cell_type": "markdown",
   "id": "613f9acf-2e82-4a28-9ec0-1a7b04e396c8",
   "metadata": {
    "papermill": {
     "duration": 0.018535,
     "end_time": "2024-03-01T09:13:37.615964",
     "exception": false,
     "start_time": "2024-03-01T09:13:37.597429",
     "status": "completed"
    },
    "tags": []
   },
   "source": [
    "#### Cabin_num"
   ]
  },
  {
   "cell_type": "code",
   "execution_count": 43,
   "id": "75782bf3-a687-4a12-8074-9553a6baecc2",
   "metadata": {
    "execution": {
     "iopub.execute_input": "2024-03-01T09:13:37.656977Z",
     "iopub.status.busy": "2024-03-01T09:13:37.655964Z",
     "iopub.status.idle": "2024-03-01T09:13:37.668263Z",
     "shell.execute_reply": "2024-03-01T09:13:37.667212Z"
    },
    "papermill": {
     "duration": 0.035284,
     "end_time": "2024-03-01T09:13:37.670261",
     "exception": false,
     "start_time": "2024-03-01T09:13:37.634977",
     "status": "completed"
    },
    "tags": []
   },
   "outputs": [
    {
     "data": {
      "text/plain": [
       "Cabin_num\n",
       "82.0      28\n",
       "86.0      22\n",
       "19.0      22\n",
       "56.0      21\n",
       "176.0     21\n",
       "          ..\n",
       "1644.0     1\n",
       "1515.0     1\n",
       "1639.0     1\n",
       "1277.0     1\n",
       "1894.0     1\n",
       "Name: count, Length: 1817, dtype: int64"
      ]
     },
     "execution_count": 43,
     "metadata": {},
     "output_type": "execute_result"
    }
   ],
   "source": [
    "train.Cabin_num.value_counts()"
   ]
  },
  {
   "cell_type": "markdown",
   "id": "9b1ad06a-3eec-448b-8b51-c1e69efd0995",
   "metadata": {
    "papermill": {
     "duration": 0.019628,
     "end_time": "2024-03-01T09:13:37.708902",
     "exception": false,
     "start_time": "2024-03-01T09:13:37.689274",
     "status": "completed"
    },
    "tags": []
   },
   "source": [
    "Заполняем пропуски значением из предыдущей строки\n"
   ]
  },
  {
   "cell_type": "code",
   "execution_count": 44,
   "id": "f637ef5a-55d5-4119-b750-cac6b47b0e0e",
   "metadata": {
    "execution": {
     "iopub.execute_input": "2024-03-01T09:13:37.748872Z",
     "iopub.status.busy": "2024-03-01T09:13:37.748872Z",
     "iopub.status.idle": "2024-03-01T09:13:37.761915Z",
     "shell.execute_reply": "2024-03-01T09:13:37.759863Z"
    },
    "papermill": {
     "duration": 0.035023,
     "end_time": "2024-03-01T09:13:37.762914",
     "exception": false,
     "start_time": "2024-03-01T09:13:37.727891",
     "status": "completed"
    },
    "tags": []
   },
   "outputs": [
    {
     "data": {
      "text/plain": [
       "199"
      ]
     },
     "execution_count": 44,
     "metadata": {},
     "output_type": "execute_result"
    }
   ],
   "source": [
    "train.Cabin_num.isnull().sum()"
   ]
  },
  {
   "cell_type": "code",
   "execution_count": 45,
   "id": "b33321de-4484-4868-9f71-4972a03d9704",
   "metadata": {
    "execution": {
     "iopub.execute_input": "2024-03-01T09:13:37.803924Z",
     "iopub.status.busy": "2024-03-01T09:13:37.803924Z",
     "iopub.status.idle": "2024-03-01T09:13:37.822565Z",
     "shell.execute_reply": "2024-03-01T09:13:37.821552Z"
    },
    "papermill": {
     "duration": 0.041653,
     "end_time": "2024-03-01T09:13:37.824574",
     "exception": false,
     "start_time": "2024-03-01T09:13:37.782921",
     "status": "completed"
    },
    "tags": []
   },
   "outputs": [],
   "source": [
    "train['Cabin_num'] = train['Cabin_num'].ffill()\n",
    "test['Cabin_num'] = test['Cabin_num'].ffill()"
   ]
  },
  {
   "cell_type": "markdown",
   "id": "ba5da176-0e64-46d5-8575-e662d11d21d6",
   "metadata": {
    "papermill": {
     "duration": 0.01999,
     "end_time": "2024-03-01T09:13:37.863566",
     "exception": false,
     "start_time": "2024-03-01T09:13:37.843576",
     "status": "completed"
    },
    "tags": []
   },
   "source": [
    "#### Cabin_side"
   ]
  },
  {
   "cell_type": "code",
   "execution_count": 46,
   "id": "fd867826-d4f9-4575-ac62-4a09342c3fc0",
   "metadata": {
    "execution": {
     "iopub.execute_input": "2024-03-01T09:13:37.915165Z",
     "iopub.status.busy": "2024-03-01T09:13:37.915165Z",
     "iopub.status.idle": "2024-03-01T09:13:37.930586Z",
     "shell.execute_reply": "2024-03-01T09:13:37.929536Z"
    },
    "papermill": {
     "duration": 0.04903,
     "end_time": "2024-03-01T09:13:37.932595",
     "exception": false,
     "start_time": "2024-03-01T09:13:37.883565",
     "status": "completed"
    },
    "tags": []
   },
   "outputs": [
    {
     "data": {
      "text/plain": [
       "Cabin_side\n",
       "S    4288\n",
       "P    4206\n",
       "Name: count, dtype: int64"
      ]
     },
     "execution_count": 46,
     "metadata": {},
     "output_type": "execute_result"
    }
   ],
   "source": [
    "train.Cabin_side.value_counts()"
   ]
  },
  {
   "cell_type": "markdown",
   "id": "92c3c450-c930-45b3-ab8c-8a439528a968",
   "metadata": {
    "papermill": {
     "duration": 0.018916,
     "end_time": "2024-03-01T09:13:37.970603",
     "exception": false,
     "start_time": "2024-03-01T09:13:37.951687",
     "status": "completed"
    },
    "tags": []
   },
   "source": [
    "Заполняем пропуски значением из предыдущей строки\n"
   ]
  },
  {
   "cell_type": "code",
   "execution_count": 47,
   "id": "7d9bfb5a-ce0e-48d2-b40d-6cda3be66028",
   "metadata": {
    "execution": {
     "iopub.execute_input": "2024-03-01T09:13:38.014213Z",
     "iopub.status.busy": "2024-03-01T09:13:38.014213Z",
     "iopub.status.idle": "2024-03-01T09:13:38.025202Z",
     "shell.execute_reply": "2024-03-01T09:13:38.024200Z"
    },
    "papermill": {
     "duration": 0.035577,
     "end_time": "2024-03-01T09:13:38.027201",
     "exception": false,
     "start_time": "2024-03-01T09:13:37.991624",
     "status": "completed"
    },
    "tags": []
   },
   "outputs": [],
   "source": [
    "train['Cabin_side'] = train['Cabin_side'].ffill()\n",
    "test['Cabin_side'] = test['Cabin_side'].ffill()"
   ]
  },
  {
   "cell_type": "markdown",
   "id": "be8ca77d-c67d-484f-8efd-565d15fbc44f",
   "metadata": {
    "papermill": {
     "duration": 0.020977,
     "end_time": "2024-03-01T09:13:38.068200",
     "exception": false,
     "start_time": "2024-03-01T09:13:38.047223",
     "status": "completed"
    },
    "tags": []
   },
   "source": [
    "#### Destination"
   ]
  },
  {
   "cell_type": "code",
   "execution_count": 48,
   "id": "87150050-f2f9-4d31-89b3-a47c7bc7365f",
   "metadata": {
    "execution": {
     "iopub.execute_input": "2024-03-01T09:13:38.111767Z",
     "iopub.status.busy": "2024-03-01T09:13:38.110770Z",
     "iopub.status.idle": "2024-03-01T09:13:38.133772Z",
     "shell.execute_reply": "2024-03-01T09:13:38.132776Z"
    },
    "papermill": {
     "duration": 0.046569,
     "end_time": "2024-03-01T09:13:38.135769",
     "exception": false,
     "start_time": "2024-03-01T09:13:38.089200",
     "status": "completed"
    },
    "tags": []
   },
   "outputs": [
    {
     "data": {
      "text/plain": [
       "Destination\n",
       "TRAPPIST-1e      5915\n",
       "55 Cancri e      1800\n",
       "PSO J318.5-22     796\n",
       "Name: count, dtype: int64"
      ]
     },
     "execution_count": 48,
     "metadata": {},
     "output_type": "execute_result"
    }
   ],
   "source": [
    "train.Destination.value_counts()"
   ]
  },
  {
   "cell_type": "markdown",
   "id": "e632cbb0-1ca7-45af-b396-cd84909deb84",
   "metadata": {
    "papermill": {
     "duration": 0.020023,
     "end_time": "2024-03-01T09:13:38.176792",
     "exception": false,
     "start_time": "2024-03-01T09:13:38.156769",
     "status": "completed"
    },
    "tags": []
   },
   "source": [
    "Заполняем пропуски самым популярным значением"
   ]
  },
  {
   "cell_type": "code",
   "execution_count": 49,
   "id": "ba648422-d592-4863-bf7a-3eedf8f6ab63",
   "metadata": {
    "execution": {
     "iopub.execute_input": "2024-03-01T09:13:38.219300Z",
     "iopub.status.busy": "2024-03-01T09:13:38.219300Z",
     "iopub.status.idle": "2024-03-01T09:13:38.227304Z",
     "shell.execute_reply": "2024-03-01T09:13:38.226302Z"
    },
    "papermill": {
     "duration": 0.033494,
     "end_time": "2024-03-01T09:13:38.229303",
     "exception": false,
     "start_time": "2024-03-01T09:13:38.195809",
     "status": "completed"
    },
    "tags": []
   },
   "outputs": [],
   "source": [
    "train['Destination'] = train['Destination'].fillna('TRAPPIST-1e')\n",
    "test['Destination'] = test['Destination'].fillna('TRAPPIST-1e')"
   ]
  },
  {
   "cell_type": "markdown",
   "id": "3483c2f3-f70f-4003-892e-abc53bba2b84",
   "metadata": {
    "papermill": {
     "duration": 0.02,
     "end_time": "2024-03-01T09:13:38.269315",
     "exception": false,
     "start_time": "2024-03-01T09:13:38.249315",
     "status": "completed"
    },
    "tags": []
   },
   "source": [
    "#### Age"
   ]
  },
  {
   "cell_type": "markdown",
   "id": "2a513c66-3e6c-4441-bada-f07d9781befc",
   "metadata": {
    "papermill": {
     "duration": 0.021255,
     "end_time": "2024-03-01T09:13:38.309557",
     "exception": false,
     "start_time": "2024-03-01T09:13:38.288302",
     "status": "completed"
    },
    "tags": []
   },
   "source": [
    "Заполняем все пустые значение возраста (Age) произвольным числом из диапазона от (mean_age - std_age) и до (mean_age + std_age)"
   ]
  },
  {
   "cell_type": "code",
   "execution_count": 50,
   "id": "7f9c2fe4-74da-48e3-a57f-d39d5c448c94",
   "metadata": {
    "execution": {
     "iopub.execute_input": "2024-03-01T09:13:38.350556Z",
     "iopub.status.busy": "2024-03-01T09:13:38.350556Z",
     "iopub.status.idle": "2024-03-01T09:13:38.368547Z",
     "shell.execute_reply": "2024-03-01T09:13:38.367568Z"
    },
    "papermill": {
     "duration": 0.042002,
     "end_time": "2024-03-01T09:13:38.370557",
     "exception": false,
     "start_time": "2024-03-01T09:13:38.328555",
     "status": "completed"
    },
    "tags": []
   },
   "outputs": [],
   "source": [
    "train_test_data = [train, test]\n",
    "for dataset in train_test_data:\n",
    "    age_avg = dataset['Age'].mean()\n",
    "    age_std = dataset['Age'].std()\n",
    "    age_null_count = dataset['Age'].isnull().sum()\n",
    "    \n",
    "    age_null_random_list = np.random.randint(age_avg - age_std, age_avg + age_std, size=age_null_count)\n",
    "    dataset.loc[np.isnan(dataset['Age']), 'Age'] = age_null_random_list\n",
    "    dataset['Age'] = dataset['Age'].astype(int)"
   ]
  },
  {
   "cell_type": "code",
   "execution_count": 51,
   "id": "735007dc-69c6-4168-a732-c2e88167802c",
   "metadata": {
    "execution": {
     "iopub.execute_input": "2024-03-01T09:13:38.417092Z",
     "iopub.status.busy": "2024-03-01T09:13:38.417092Z",
     "iopub.status.idle": "2024-03-01T09:13:38.431089Z",
     "shell.execute_reply": "2024-03-01T09:13:38.430087Z"
    },
    "papermill": {
     "duration": 0.040535,
     "end_time": "2024-03-01T09:13:38.433091",
     "exception": false,
     "start_time": "2024-03-01T09:13:38.392556",
     "status": "completed"
    },
    "tags": []
   },
   "outputs": [
    {
     "data": {
      "text/plain": [
       "PassengerId      0\n",
       "HomePlanet       0\n",
       "CryoSleep        0\n",
       "Destination      0\n",
       "Age              0\n",
       "VIP            203\n",
       "Name           200\n",
       "Transported      0\n",
       "Group            0\n",
       "Cabin_deck       0\n",
       "Cabin_num        0\n",
       "Cabin_side       0\n",
       "Amenities      908\n",
       "dtype: int64"
      ]
     },
     "execution_count": 51,
     "metadata": {},
     "output_type": "execute_result"
    }
   ],
   "source": [
    "train.isnull().sum()"
   ]
  },
  {
   "cell_type": "markdown",
   "id": "3f084041-58bb-443f-88f8-eaf04c94b9d7",
   "metadata": {
    "papermill": {
     "duration": 0.020018,
     "end_time": "2024-03-01T09:13:38.474100",
     "exception": false,
     "start_time": "2024-03-01T09:13:38.454082",
     "status": "completed"
    },
    "tags": []
   },
   "source": [
    "#### VIP"
   ]
  },
  {
   "cell_type": "code",
   "execution_count": 52,
   "id": "f3f39893-dc39-4968-af56-78f33f4e6eca",
   "metadata": {
    "execution": {
     "iopub.execute_input": "2024-03-01T09:13:38.516678Z",
     "iopub.status.busy": "2024-03-01T09:13:38.516678Z",
     "iopub.status.idle": "2024-03-01T09:13:38.525685Z",
     "shell.execute_reply": "2024-03-01T09:13:38.524695Z"
    },
    "papermill": {
     "duration": 0.034554,
     "end_time": "2024-03-01T09:13:38.528695",
     "exception": false,
     "start_time": "2024-03-01T09:13:38.494141",
     "status": "completed"
    },
    "tags": []
   },
   "outputs": [
    {
     "data": {
      "text/plain": [
       "VIP\n",
       "False    8291\n",
       "True      199\n",
       "Name: count, dtype: int64"
      ]
     },
     "execution_count": 52,
     "metadata": {},
     "output_type": "execute_result"
    }
   ],
   "source": [
    "train.VIP.value_counts()"
   ]
  },
  {
   "cell_type": "markdown",
   "id": "67e09f7d-550c-49de-8c1c-ece53a7898e4",
   "metadata": {
    "papermill": {
     "duration": 0.020997,
     "end_time": "2024-03-01T09:13:38.568679",
     "exception": false,
     "start_time": "2024-03-01T09:13:38.547682",
     "status": "completed"
    },
    "tags": []
   },
   "source": [
    "Заполняем пропуски самым  популярным значением"
   ]
  },
  {
   "cell_type": "code",
   "execution_count": 53,
   "id": "afa482b9-ccb0-47b0-a7ee-5e4284f9d6e2",
   "metadata": {
    "execution": {
     "iopub.execute_input": "2024-03-01T09:13:38.613230Z",
     "iopub.status.busy": "2024-03-01T09:13:38.612248Z",
     "iopub.status.idle": "2024-03-01T09:13:38.621231Z",
     "shell.execute_reply": "2024-03-01T09:13:38.620236Z"
    },
    "papermill": {
     "duration": 0.034562,
     "end_time": "2024-03-01T09:13:38.623242",
     "exception": false,
     "start_time": "2024-03-01T09:13:38.588680",
     "status": "completed"
    },
    "tags": []
   },
   "outputs": [
    {
     "name": "stderr",
     "output_type": "stream",
     "text": [
      "C:\\Users\\menin\\AppData\\Local\\Temp\\ipykernel_17740\\2557423949.py:1: FutureWarning: Downcasting object dtype arrays on .fillna, .ffill, .bfill is deprecated and will change in a future version. Call result.infer_objects(copy=False) instead. To opt-in to the future behavior, set `pd.set_option('future.no_silent_downcasting', True)`\n",
      "  train['VIP'] = train['VIP'].fillna(False)\n",
      "C:\\Users\\menin\\AppData\\Local\\Temp\\ipykernel_17740\\2557423949.py:2: FutureWarning: Downcasting object dtype arrays on .fillna, .ffill, .bfill is deprecated and will change in a future version. Call result.infer_objects(copy=False) instead. To opt-in to the future behavior, set `pd.set_option('future.no_silent_downcasting', True)`\n",
      "  test['VIP'] = test['VIP'].fillna(False)\n"
     ]
    }
   ],
   "source": [
    "train['VIP'] = train['VIP'].fillna(False)\n",
    "test['VIP'] = test['VIP'].fillna(False)"
   ]
  },
  {
   "cell_type": "markdown",
   "id": "57f50caa-0de5-4c9f-9445-a988d32875f1",
   "metadata": {
    "papermill": {
     "duration": 0.020164,
     "end_time": "2024-03-01T09:13:38.663399",
     "exception": false,
     "start_time": "2024-03-01T09:13:38.643235",
     "status": "completed"
    },
    "tags": []
   },
   "source": [
    "#### Amenities"
   ]
  },
  {
   "cell_type": "code",
   "execution_count": 54,
   "id": "38ad4cb1-7073-4b7f-8058-fe96e50c099b",
   "metadata": {
    "execution": {
     "iopub.execute_input": "2024-03-01T09:13:38.705952Z",
     "iopub.status.busy": "2024-03-01T09:13:38.704432Z",
     "iopub.status.idle": "2024-03-01T09:13:38.713971Z",
     "shell.execute_reply": "2024-03-01T09:13:38.712973Z"
    },
    "papermill": {
     "duration": 0.031533,
     "end_time": "2024-03-01T09:13:38.714960",
     "exception": false,
     "start_time": "2024-03-01T09:13:38.683427",
     "status": "completed"
    },
    "tags": []
   },
   "outputs": [
    {
     "data": {
      "text/plain": [
       "Amenities\n",
       "0.0        3247\n",
       "809.0        50\n",
       "788.0        39\n",
       "804.0        36\n",
       "803.0        34\n",
       "           ... \n",
       "7994.0        1\n",
       "12238.0       1\n",
       "397.0         1\n",
       "2871.0        1\n",
       "4637.0        1\n",
       "Name: count, Length: 2116, dtype: int64"
      ]
     },
     "execution_count": 54,
     "metadata": {},
     "output_type": "execute_result"
    }
   ],
   "source": [
    "train.Amenities.value_counts()"
   ]
  },
  {
   "cell_type": "markdown",
   "id": "b2f8be25-2400-46d4-bbe9-12e3f9c50f68",
   "metadata": {
    "papermill": {
     "duration": 0.019048,
     "end_time": "2024-03-01T09:13:38.755614",
     "exception": false,
     "start_time": "2024-03-01T09:13:38.736566",
     "status": "completed"
    },
    "tags": []
   },
   "source": [
    "Заполняем пропуски самым  популярным значением"
   ]
  },
  {
   "cell_type": "code",
   "execution_count": 55,
   "id": "8a37fd5c-f0f4-4a81-99f0-bef1f4645be6",
   "metadata": {
    "execution": {
     "iopub.execute_input": "2024-03-01T09:13:38.798605Z",
     "iopub.status.busy": "2024-03-01T09:13:38.798605Z",
     "iopub.status.idle": "2024-03-01T09:13:38.807178Z",
     "shell.execute_reply": "2024-03-01T09:13:38.806161Z"
    },
    "papermill": {
     "duration": 0.032569,
     "end_time": "2024-03-01T09:13:38.809170",
     "exception": false,
     "start_time": "2024-03-01T09:13:38.776601",
     "status": "completed"
    },
    "tags": []
   },
   "outputs": [],
   "source": [
    "train['Amenities'] = train['Amenities'].fillna(0)\n",
    "test['Amenities'] = test['Amenities'].fillna(0)"
   ]
  },
  {
   "cell_type": "code",
   "execution_count": 56,
   "id": "143cbaa6-6f20-4997-9767-e5ea7c1c9774",
   "metadata": {
    "execution": {
     "iopub.execute_input": "2024-03-01T09:13:38.850169Z",
     "iopub.status.busy": "2024-03-01T09:13:38.850169Z",
     "iopub.status.idle": "2024-03-01T09:13:38.868642Z",
     "shell.execute_reply": "2024-03-01T09:13:38.867638Z"
    },
    "papermill": {
     "duration": 0.041471,
     "end_time": "2024-03-01T09:13:38.870637",
     "exception": false,
     "start_time": "2024-03-01T09:13:38.829166",
     "status": "completed"
    },
    "tags": []
   },
   "outputs": [
    {
     "data": {
      "text/plain": [
       "PassengerId      0\n",
       "HomePlanet       0\n",
       "CryoSleep        0\n",
       "Destination      0\n",
       "Age              0\n",
       "VIP              0\n",
       "Name           200\n",
       "Transported      0\n",
       "Group            0\n",
       "Cabin_deck       0\n",
       "Cabin_num        0\n",
       "Cabin_side       0\n",
       "Amenities        0\n",
       "dtype: int64"
      ]
     },
     "execution_count": 56,
     "metadata": {},
     "output_type": "execute_result"
    }
   ],
   "source": [
    "train.isnull().sum()"
   ]
  },
  {
   "cell_type": "code",
   "execution_count": 57,
   "id": "0d7bd931-1f48-42b6-a410-a051c562a0d2",
   "metadata": {
    "execution": {
     "iopub.execute_input": "2024-03-01T09:13:38.924217Z",
     "iopub.status.busy": "2024-03-01T09:13:38.923202Z",
     "iopub.status.idle": "2024-03-01T09:13:38.947650Z",
     "shell.execute_reply": "2024-03-01T09:13:38.946670Z"
    },
    "papermill": {
     "duration": 0.047992,
     "end_time": "2024-03-01T09:13:38.949647",
     "exception": false,
     "start_time": "2024-03-01T09:13:38.901655",
     "status": "completed"
    },
    "tags": []
   },
   "outputs": [
    {
     "data": {
      "text/html": [
       "<div>\n",
       "<style scoped>\n",
       "    .dataframe tbody tr th:only-of-type {\n",
       "        vertical-align: middle;\n",
       "    }\n",
       "\n",
       "    .dataframe tbody tr th {\n",
       "        vertical-align: top;\n",
       "    }\n",
       "\n",
       "    .dataframe thead th {\n",
       "        text-align: right;\n",
       "    }\n",
       "</style>\n",
       "<table border=\"1\" class=\"dataframe\">\n",
       "  <thead>\n",
       "    <tr style=\"text-align: right;\">\n",
       "      <th></th>\n",
       "      <th>PassengerId</th>\n",
       "      <th>HomePlanet</th>\n",
       "      <th>CryoSleep</th>\n",
       "      <th>Destination</th>\n",
       "      <th>Age</th>\n",
       "      <th>VIP</th>\n",
       "      <th>Name</th>\n",
       "      <th>Transported</th>\n",
       "      <th>Group</th>\n",
       "      <th>Cabin_deck</th>\n",
       "      <th>Cabin_num</th>\n",
       "      <th>Cabin_side</th>\n",
       "      <th>Amenities</th>\n",
       "    </tr>\n",
       "  </thead>\n",
       "  <tbody>\n",
       "    <tr>\n",
       "      <th>0</th>\n",
       "      <td>0001_01</td>\n",
       "      <td>Europa</td>\n",
       "      <td>False</td>\n",
       "      <td>TRAPPIST-1e</td>\n",
       "      <td>39</td>\n",
       "      <td>False</td>\n",
       "      <td>Maham Ofracculy</td>\n",
       "      <td>False</td>\n",
       "      <td>0001</td>\n",
       "      <td>B</td>\n",
       "      <td>0.0</td>\n",
       "      <td>P</td>\n",
       "      <td>0.0</td>\n",
       "    </tr>\n",
       "    <tr>\n",
       "      <th>1</th>\n",
       "      <td>0002_01</td>\n",
       "      <td>Earth</td>\n",
       "      <td>False</td>\n",
       "      <td>TRAPPIST-1e</td>\n",
       "      <td>24</td>\n",
       "      <td>False</td>\n",
       "      <td>Juanna Vines</td>\n",
       "      <td>True</td>\n",
       "      <td>0002</td>\n",
       "      <td>F</td>\n",
       "      <td>0.0</td>\n",
       "      <td>S</td>\n",
       "      <td>736.0</td>\n",
       "    </tr>\n",
       "    <tr>\n",
       "      <th>2</th>\n",
       "      <td>0003_01</td>\n",
       "      <td>Europa</td>\n",
       "      <td>False</td>\n",
       "      <td>TRAPPIST-1e</td>\n",
       "      <td>58</td>\n",
       "      <td>True</td>\n",
       "      <td>Altark Susent</td>\n",
       "      <td>False</td>\n",
       "      <td>0003</td>\n",
       "      <td>A</td>\n",
       "      <td>0.0</td>\n",
       "      <td>S</td>\n",
       "      <td>10383.0</td>\n",
       "    </tr>\n",
       "    <tr>\n",
       "      <th>3</th>\n",
       "      <td>0003_02</td>\n",
       "      <td>Europa</td>\n",
       "      <td>False</td>\n",
       "      <td>TRAPPIST-1e</td>\n",
       "      <td>33</td>\n",
       "      <td>False</td>\n",
       "      <td>Solam Susent</td>\n",
       "      <td>False</td>\n",
       "      <td>0003</td>\n",
       "      <td>A</td>\n",
       "      <td>0.0</td>\n",
       "      <td>S</td>\n",
       "      <td>5176.0</td>\n",
       "    </tr>\n",
       "    <tr>\n",
       "      <th>4</th>\n",
       "      <td>0004_01</td>\n",
       "      <td>Earth</td>\n",
       "      <td>False</td>\n",
       "      <td>TRAPPIST-1e</td>\n",
       "      <td>16</td>\n",
       "      <td>False</td>\n",
       "      <td>Willy Santantines</td>\n",
       "      <td>True</td>\n",
       "      <td>0004</td>\n",
       "      <td>F</td>\n",
       "      <td>1.0</td>\n",
       "      <td>S</td>\n",
       "      <td>1091.0</td>\n",
       "    </tr>\n",
       "  </tbody>\n",
       "</table>\n",
       "</div>"
      ],
      "text/plain": [
       "  PassengerId HomePlanet  CryoSleep  Destination  Age    VIP  \\\n",
       "0     0001_01     Europa      False  TRAPPIST-1e   39  False   \n",
       "1     0002_01      Earth      False  TRAPPIST-1e   24  False   \n",
       "2     0003_01     Europa      False  TRAPPIST-1e   58   True   \n",
       "3     0003_02     Europa      False  TRAPPIST-1e   33  False   \n",
       "4     0004_01      Earth      False  TRAPPIST-1e   16  False   \n",
       "\n",
       "                Name  Transported Group Cabin_deck  Cabin_num Cabin_side  \\\n",
       "0    Maham Ofracculy        False  0001          B        0.0          P   \n",
       "1       Juanna Vines         True  0002          F        0.0          S   \n",
       "2      Altark Susent        False  0003          A        0.0          S   \n",
       "3       Solam Susent        False  0003          A        0.0          S   \n",
       "4  Willy Santantines         True  0004          F        1.0          S   \n",
       "\n",
       "   Amenities  \n",
       "0        0.0  \n",
       "1      736.0  \n",
       "2    10383.0  \n",
       "3     5176.0  \n",
       "4     1091.0  "
      ]
     },
     "execution_count": 57,
     "metadata": {},
     "output_type": "execute_result"
    }
   ],
   "source": [
    "train.head()"
   ]
  },
  {
   "cell_type": "markdown",
   "id": "6d4ff8dc-5205-4940-bead-170488f2ca01",
   "metadata": {
    "papermill": {
     "duration": 0.020944,
     "end_time": "2024-03-01T09:13:38.990586",
     "exception": false,
     "start_time": "2024-03-01T09:13:38.969642",
     "status": "completed"
    },
    "tags": []
   },
   "source": [
    "### Приведём данные к численному виду"
   ]
  },
  {
   "cell_type": "code",
   "execution_count": 58,
   "id": "ecfbaadb-d9b7-4108-a8d1-90ad1cfcfbd9",
   "metadata": {
    "execution": {
     "iopub.execute_input": "2024-03-01T09:13:39.033669Z",
     "iopub.status.busy": "2024-03-01T09:13:39.032674Z",
     "iopub.status.idle": "2024-03-01T09:13:39.042750Z",
     "shell.execute_reply": "2024-03-01T09:13:39.041725Z"
    },
    "papermill": {
     "duration": 0.033132,
     "end_time": "2024-03-01T09:13:39.044727",
     "exception": false,
     "start_time": "2024-03-01T09:13:39.011595",
     "status": "completed"
    },
    "tags": []
   },
   "outputs": [],
   "source": [
    "train_test_data = [train, test]"
   ]
  },
  {
   "cell_type": "markdown",
   "id": "8898e603-a577-404d-9a8a-373175a4c03d",
   "metadata": {
    "papermill": {
     "duration": 0.020003,
     "end_time": "2024-03-01T09:13:39.084751",
     "exception": false,
     "start_time": "2024-03-01T09:13:39.064748",
     "status": "completed"
    },
    "tags": []
   },
   "source": [
    "#### HomePlanet"
   ]
  },
  {
   "cell_type": "code",
   "execution_count": 59,
   "id": "6cef175b-597e-4837-9cca-e18e7b2f31e8",
   "metadata": {
    "execution": {
     "iopub.execute_input": "2024-03-01T09:13:39.126306Z",
     "iopub.status.busy": "2024-03-01T09:13:39.126306Z",
     "iopub.status.idle": "2024-03-01T09:13:39.135947Z",
     "shell.execute_reply": "2024-03-01T09:13:39.134897Z"
    },
    "papermill": {
     "duration": 0.03319,
     "end_time": "2024-03-01T09:13:39.137944",
     "exception": false,
     "start_time": "2024-03-01T09:13:39.104754",
     "status": "completed"
    },
    "tags": []
   },
   "outputs": [
    {
     "data": {
      "text/plain": [
       "array(['Europa', 'Earth', 'Mars'], dtype=object)"
      ]
     },
     "execution_count": 59,
     "metadata": {},
     "output_type": "execute_result"
    }
   ],
   "source": [
    "train.HomePlanet.unique()"
   ]
  },
  {
   "cell_type": "code",
   "execution_count": 60,
   "id": "46204f22-f944-4838-92f7-2e38ff6a7bf9",
   "metadata": {
    "execution": {
     "iopub.execute_input": "2024-03-01T09:13:39.181747Z",
     "iopub.status.busy": "2024-03-01T09:13:39.181747Z",
     "iopub.status.idle": "2024-03-01T09:13:39.198710Z",
     "shell.execute_reply": "2024-03-01T09:13:39.196656Z"
    },
    "papermill": {
     "duration": 0.041997,
     "end_time": "2024-03-01T09:13:39.201707",
     "exception": false,
     "start_time": "2024-03-01T09:13:39.159710",
     "status": "completed"
    },
    "tags": []
   },
   "outputs": [],
   "source": [
    "for dataset in train_test_data:\n",
    "    dataset['HomePlanet'] = dataset['HomePlanet'].map( {'Earth': 0, 'Mars': 1, 'Europa': 2} ).astype(int)"
   ]
  },
  {
   "cell_type": "markdown",
   "id": "c1398487-518e-4f15-9a0b-17061310d803",
   "metadata": {
    "papermill": {
     "duration": 0.020018,
     "end_time": "2024-03-01T09:13:39.241278",
     "exception": false,
     "start_time": "2024-03-01T09:13:39.221260",
     "status": "completed"
    },
    "tags": []
   },
   "source": [
    "#### CryoSleep"
   ]
  },
  {
   "cell_type": "code",
   "execution_count": 61,
   "id": "d3520ce4-673b-48bc-afba-12ae2fa8e0fd",
   "metadata": {
    "execution": {
     "iopub.execute_input": "2024-03-01T09:13:39.283268Z",
     "iopub.status.busy": "2024-03-01T09:13:39.283268Z",
     "iopub.status.idle": "2024-03-01T09:13:39.293279Z",
     "shell.execute_reply": "2024-03-01T09:13:39.292222Z"
    },
    "papermill": {
     "duration": 0.033988,
     "end_time": "2024-03-01T09:13:39.295266",
     "exception": false,
     "start_time": "2024-03-01T09:13:39.261278",
     "status": "completed"
    },
    "tags": []
   },
   "outputs": [
    {
     "data": {
      "text/plain": [
       "array([False,  True])"
      ]
     },
     "execution_count": 61,
     "metadata": {},
     "output_type": "execute_result"
    }
   ],
   "source": [
    "train.CryoSleep.unique()"
   ]
  },
  {
   "cell_type": "code",
   "execution_count": 62,
   "id": "5f255b50-4748-4082-a8f5-2bf58e7c79ef",
   "metadata": {
    "execution": {
     "iopub.execute_input": "2024-03-01T09:13:39.336959Z",
     "iopub.status.busy": "2024-03-01T09:13:39.336959Z",
     "iopub.status.idle": "2024-03-01T09:13:39.355076Z",
     "shell.execute_reply": "2024-03-01T09:13:39.353101Z"
    },
    "papermill": {
     "duration": 0.041266,
     "end_time": "2024-03-01T09:13:39.356088",
     "exception": false,
     "start_time": "2024-03-01T09:13:39.314822",
     "status": "completed"
    },
    "tags": []
   },
   "outputs": [],
   "source": [
    "for dataset in train_test_data:\n",
    "    dataset['CryoSleep'] = dataset['CryoSleep'].map( {False: 0, True: 1} )"
   ]
  },
  {
   "cell_type": "markdown",
   "id": "bffee700-9676-4cda-879e-d525b8cb1b2b",
   "metadata": {
    "papermill": {
     "duration": 0.02002,
     "end_time": "2024-03-01T09:13:39.397139",
     "exception": false,
     "start_time": "2024-03-01T09:13:39.377119",
     "status": "completed"
    },
    "tags": []
   },
   "source": [
    "#### Destination"
   ]
  },
  {
   "cell_type": "code",
   "execution_count": 63,
   "id": "d53b00a0-25d9-4464-a5be-47ff52dba2a8",
   "metadata": {
    "execution": {
     "iopub.execute_input": "2024-03-01T09:13:39.439662Z",
     "iopub.status.busy": "2024-03-01T09:13:39.439662Z",
     "iopub.status.idle": "2024-03-01T09:13:39.448672Z",
     "shell.execute_reply": "2024-03-01T09:13:39.447658Z"
    },
    "papermill": {
     "duration": 0.032998,
     "end_time": "2024-03-01T09:13:39.450659",
     "exception": false,
     "start_time": "2024-03-01T09:13:39.417661",
     "status": "completed"
    },
    "tags": []
   },
   "outputs": [
    {
     "data": {
      "text/plain": [
       "array(['TRAPPIST-1e', 'PSO J318.5-22', '55 Cancri e'], dtype=object)"
      ]
     },
     "execution_count": 63,
     "metadata": {},
     "output_type": "execute_result"
    }
   ],
   "source": [
    "train.Destination.unique()"
   ]
  },
  {
   "cell_type": "code",
   "execution_count": 64,
   "id": "94f81e88-3376-4dff-a1da-eea116bb3d86",
   "metadata": {
    "execution": {
     "iopub.execute_input": "2024-03-01T09:13:39.494712Z",
     "iopub.status.busy": "2024-03-01T09:13:39.493701Z",
     "iopub.status.idle": "2024-03-01T09:13:39.511929Z",
     "shell.execute_reply": "2024-03-01T09:13:39.510929Z"
    },
    "papermill": {
     "duration": 0.042267,
     "end_time": "2024-03-01T09:13:39.513928",
     "exception": false,
     "start_time": "2024-03-01T09:13:39.471661",
     "status": "completed"
    },
    "tags": []
   },
   "outputs": [],
   "source": [
    "for dataset in train_test_data:\n",
    "    dataset['Destination'] = dataset['Destination'].map( {'TRAPPIST-1e': 0, 'PSO J318.5-22': 1, '55 Cancri e': 2} )"
   ]
  },
  {
   "cell_type": "markdown",
   "id": "1bf9a117-641d-420b-a5a9-661529693e4e",
   "metadata": {
    "papermill": {
     "duration": 0.020345,
     "end_time": "2024-03-01T09:13:39.555286",
     "exception": false,
     "start_time": "2024-03-01T09:13:39.534941",
     "status": "completed"
    },
    "tags": []
   },
   "source": [
    "#### VIP"
   ]
  },
  {
   "cell_type": "code",
   "execution_count": 65,
   "id": "d73a1b12-980a-4660-9818-161ac4f79430",
   "metadata": {
    "execution": {
     "iopub.execute_input": "2024-03-01T09:13:39.598336Z",
     "iopub.status.busy": "2024-03-01T09:13:39.598336Z",
     "iopub.status.idle": "2024-03-01T09:13:39.607331Z",
     "shell.execute_reply": "2024-03-01T09:13:39.606199Z"
    },
    "papermill": {
     "duration": 0.033022,
     "end_time": "2024-03-01T09:13:39.608366",
     "exception": false,
     "start_time": "2024-03-01T09:13:39.575344",
     "status": "completed"
    },
    "tags": []
   },
   "outputs": [
    {
     "data": {
      "text/plain": [
       "array([False,  True])"
      ]
     },
     "execution_count": 65,
     "metadata": {},
     "output_type": "execute_result"
    }
   ],
   "source": [
    "train.VIP.unique()"
   ]
  },
  {
   "cell_type": "code",
   "execution_count": 66,
   "id": "40d52095-deec-4e07-8241-687c6feeae93",
   "metadata": {
    "execution": {
     "iopub.execute_input": "2024-03-01T09:13:39.651362Z",
     "iopub.status.busy": "2024-03-01T09:13:39.651362Z",
     "iopub.status.idle": "2024-03-01T09:13:39.668912Z",
     "shell.execute_reply": "2024-03-01T09:13:39.667896Z"
    },
    "papermill": {
     "duration": 0.041539,
     "end_time": "2024-03-01T09:13:39.670917",
     "exception": false,
     "start_time": "2024-03-01T09:13:39.629378",
     "status": "completed"
    },
    "tags": []
   },
   "outputs": [],
   "source": [
    "for dataset in train_test_data:\n",
    "    dataset['VIP'] = dataset['VIP'].map( {False: 0, True: 1} )"
   ]
  },
  {
   "cell_type": "markdown",
   "id": "34b73e7d-415b-41e1-9fab-f8045558b16a",
   "metadata": {
    "papermill": {
     "duration": 0.019583,
     "end_time": "2024-03-01T09:13:39.711510",
     "exception": false,
     "start_time": "2024-03-01T09:13:39.691927",
     "status": "completed"
    },
    "tags": []
   },
   "source": [
    "#### Cabin_deck"
   ]
  },
  {
   "cell_type": "code",
   "execution_count": 67,
   "id": "b841e158-25e3-4ba1-90bc-f9bfe9ea5fff",
   "metadata": {
    "execution": {
     "iopub.execute_input": "2024-03-01T09:13:39.754517Z",
     "iopub.status.busy": "2024-03-01T09:13:39.753526Z",
     "iopub.status.idle": "2024-03-01T09:13:39.763696Z",
     "shell.execute_reply": "2024-03-01T09:13:39.762144Z"
    },
    "papermill": {
     "duration": 0.034272,
     "end_time": "2024-03-01T09:13:39.765758",
     "exception": false,
     "start_time": "2024-03-01T09:13:39.731486",
     "status": "completed"
    },
    "tags": []
   },
   "outputs": [
    {
     "data": {
      "text/plain": [
       "array(['B', 'F', 'A', 'G', 'E', 'D', 'C', 'T'], dtype=object)"
      ]
     },
     "execution_count": 67,
     "metadata": {},
     "output_type": "execute_result"
    }
   ],
   "source": [
    "train.Cabin_deck.unique()"
   ]
  },
  {
   "cell_type": "code",
   "execution_count": 68,
   "id": "fd23e267-f21b-448a-a3c8-8e0b6ec2596a",
   "metadata": {
    "execution": {
     "iopub.execute_input": "2024-03-01T09:13:39.807924Z",
     "iopub.status.busy": "2024-03-01T09:13:39.807924Z",
     "iopub.status.idle": "2024-03-01T09:13:39.825400Z",
     "shell.execute_reply": "2024-03-01T09:13:39.824407Z"
    },
    "papermill": {
     "duration": 0.041506,
     "end_time": "2024-03-01T09:13:39.827385",
     "exception": false,
     "start_time": "2024-03-01T09:13:39.785879",
     "status": "completed"
    },
    "tags": []
   },
   "outputs": [],
   "source": [
    "for dataset in train_test_data:\n",
    "    dataset['Cabin_deck'] = dataset['Cabin_deck'].map( {'B': 0, 'F': 1, 'A': 2, 'G': 3, 'E': 4, 'D': 5, 'C': 6, 'T': 7} )"
   ]
  },
  {
   "cell_type": "markdown",
   "id": "cb485fdf-cdca-41a0-87fa-f9459ab06bf6",
   "metadata": {
    "papermill": {
     "duration": 0.020059,
     "end_time": "2024-03-01T09:13:39.869092",
     "exception": false,
     "start_time": "2024-03-01T09:13:39.849033",
     "status": "completed"
    },
    "tags": []
   },
   "source": [
    "#### Cabin_side"
   ]
  },
  {
   "cell_type": "code",
   "execution_count": 69,
   "id": "f81eb580-0348-4449-a2ff-7840bc937f61",
   "metadata": {
    "execution": {
     "iopub.execute_input": "2024-03-01T09:13:39.922626Z",
     "iopub.status.busy": "2024-03-01T09:13:39.921620Z",
     "iopub.status.idle": "2024-03-01T09:13:39.934621Z",
     "shell.execute_reply": "2024-03-01T09:13:39.933622Z"
    },
    "papermill": {
     "duration": 0.036493,
     "end_time": "2024-03-01T09:13:39.935626",
     "exception": false,
     "start_time": "2024-03-01T09:13:39.899133",
     "status": "completed"
    },
    "tags": []
   },
   "outputs": [
    {
     "data": {
      "text/plain": [
       "array(['P', 'S'], dtype=object)"
      ]
     },
     "execution_count": 69,
     "metadata": {},
     "output_type": "execute_result"
    }
   ],
   "source": [
    "train.Cabin_side.unique()"
   ]
  },
  {
   "cell_type": "code",
   "execution_count": 70,
   "id": "34834c1b-a8e0-4c3f-b10a-884273aaea79",
   "metadata": {
    "execution": {
     "iopub.execute_input": "2024-03-01T09:13:39.979643Z",
     "iopub.status.busy": "2024-03-01T09:13:39.978630Z",
     "iopub.status.idle": "2024-03-01T09:13:39.998200Z",
     "shell.execute_reply": "2024-03-01T09:13:39.997460Z"
    },
    "papermill": {
     "duration": 0.043572,
     "end_time": "2024-03-01T09:13:40.000202",
     "exception": false,
     "start_time": "2024-03-01T09:13:39.956630",
     "status": "completed"
    },
    "tags": []
   },
   "outputs": [],
   "source": [
    "for dataset in train_test_data:\n",
    "    dataset['Cabin_side'] = dataset['Cabin_side'].map( {'P': 0, 'S': 1} )"
   ]
  },
  {
   "cell_type": "markdown",
   "id": "e3a952e2-88dd-408b-b49c-0442d8ebe0ff",
   "metadata": {
    "papermill": {
     "duration": 0.020025,
     "end_time": "2024-03-01T09:13:40.040796",
     "exception": false,
     "start_time": "2024-03-01T09:13:40.020771",
     "status": "completed"
    },
    "tags": []
   },
   "source": [
    "#### Age"
   ]
  },
  {
   "cell_type": "code",
   "execution_count": 71,
   "id": "f5859dc9-07e9-47cc-8259-f2b3581e430c",
   "metadata": {
    "execution": {
     "iopub.execute_input": "2024-03-01T09:13:40.083765Z",
     "iopub.status.busy": "2024-03-01T09:13:40.082833Z",
     "iopub.status.idle": "2024-03-01T09:13:40.105009Z",
     "shell.execute_reply": "2024-03-01T09:13:40.104026Z"
    },
    "papermill": {
     "duration": 0.045263,
     "end_time": "2024-03-01T09:13:40.107023",
     "exception": false,
     "start_time": "2024-03-01T09:13:40.061760",
     "status": "completed"
    },
    "tags": []
   },
   "outputs": [
    {
     "name": "stdout",
     "output_type": "stream",
     "text": [
      "          AgeBand  Transported\n",
      "0  (-0.079, 15.8]     0.645883\n",
      "1    (15.8, 31.6]     0.475426\n",
      "2    (31.6, 47.4]     0.485900\n",
      "3    (47.4, 63.2]     0.486747\n",
      "4    (63.2, 79.0]     0.463235\n"
     ]
    }
   ],
   "source": [
    "for dataset in train_test_data:\n",
    "    dataset['AgeBand'] = pd.cut(train['Age'], 5)\n",
    "\n",
    "print (train[['AgeBand', 'Transported']].groupby(['AgeBand'], as_index=False, observed=False).mean())"
   ]
  },
  {
   "cell_type": "code",
   "execution_count": 72,
   "id": "6db0939f-a538-4c13-af1b-16580a100228",
   "metadata": {
    "execution": {
     "iopub.execute_input": "2024-03-01T09:13:40.149572Z",
     "iopub.status.busy": "2024-03-01T09:13:40.149572Z",
     "iopub.status.idle": "2024-03-01T09:13:40.168566Z",
     "shell.execute_reply": "2024-03-01T09:13:40.167562Z"
    },
    "papermill": {
     "duration": 0.041979,
     "end_time": "2024-03-01T09:13:40.169564",
     "exception": false,
     "start_time": "2024-03-01T09:13:40.127585",
     "status": "completed"
    },
    "tags": []
   },
   "outputs": [
    {
     "data": {
      "text/html": [
       "<div>\n",
       "<style scoped>\n",
       "    .dataframe tbody tr th:only-of-type {\n",
       "        vertical-align: middle;\n",
       "    }\n",
       "\n",
       "    .dataframe tbody tr th {\n",
       "        vertical-align: top;\n",
       "    }\n",
       "\n",
       "    .dataframe thead th {\n",
       "        text-align: right;\n",
       "    }\n",
       "</style>\n",
       "<table border=\"1\" class=\"dataframe\">\n",
       "  <thead>\n",
       "    <tr style=\"text-align: right;\">\n",
       "      <th></th>\n",
       "      <th>PassengerId</th>\n",
       "      <th>HomePlanet</th>\n",
       "      <th>CryoSleep</th>\n",
       "      <th>Destination</th>\n",
       "      <th>Age</th>\n",
       "      <th>VIP</th>\n",
       "      <th>Name</th>\n",
       "      <th>Transported</th>\n",
       "      <th>Group</th>\n",
       "      <th>Cabin_deck</th>\n",
       "      <th>Cabin_num</th>\n",
       "      <th>Cabin_side</th>\n",
       "      <th>Amenities</th>\n",
       "      <th>AgeBand</th>\n",
       "    </tr>\n",
       "  </thead>\n",
       "  <tbody>\n",
       "    <tr>\n",
       "      <th>0</th>\n",
       "      <td>0001_01</td>\n",
       "      <td>2</td>\n",
       "      <td>0</td>\n",
       "      <td>0</td>\n",
       "      <td>2</td>\n",
       "      <td>0</td>\n",
       "      <td>Maham Ofracculy</td>\n",
       "      <td>False</td>\n",
       "      <td>0001</td>\n",
       "      <td>0</td>\n",
       "      <td>0.0</td>\n",
       "      <td>0</td>\n",
       "      <td>0.0</td>\n",
       "      <td>(31.6, 47.4]</td>\n",
       "    </tr>\n",
       "    <tr>\n",
       "      <th>1</th>\n",
       "      <td>0002_01</td>\n",
       "      <td>0</td>\n",
       "      <td>0</td>\n",
       "      <td>0</td>\n",
       "      <td>1</td>\n",
       "      <td>0</td>\n",
       "      <td>Juanna Vines</td>\n",
       "      <td>True</td>\n",
       "      <td>0002</td>\n",
       "      <td>1</td>\n",
       "      <td>0.0</td>\n",
       "      <td>1</td>\n",
       "      <td>736.0</td>\n",
       "      <td>(15.8, 31.6]</td>\n",
       "    </tr>\n",
       "    <tr>\n",
       "      <th>2</th>\n",
       "      <td>0003_01</td>\n",
       "      <td>2</td>\n",
       "      <td>0</td>\n",
       "      <td>0</td>\n",
       "      <td>3</td>\n",
       "      <td>1</td>\n",
       "      <td>Altark Susent</td>\n",
       "      <td>False</td>\n",
       "      <td>0003</td>\n",
       "      <td>2</td>\n",
       "      <td>0.0</td>\n",
       "      <td>1</td>\n",
       "      <td>10383.0</td>\n",
       "      <td>(47.4, 63.2]</td>\n",
       "    </tr>\n",
       "    <tr>\n",
       "      <th>3</th>\n",
       "      <td>0003_02</td>\n",
       "      <td>2</td>\n",
       "      <td>0</td>\n",
       "      <td>0</td>\n",
       "      <td>2</td>\n",
       "      <td>0</td>\n",
       "      <td>Solam Susent</td>\n",
       "      <td>False</td>\n",
       "      <td>0003</td>\n",
       "      <td>2</td>\n",
       "      <td>0.0</td>\n",
       "      <td>1</td>\n",
       "      <td>5176.0</td>\n",
       "      <td>(31.6, 47.4]</td>\n",
       "    </tr>\n",
       "    <tr>\n",
       "      <th>4</th>\n",
       "      <td>0004_01</td>\n",
       "      <td>0</td>\n",
       "      <td>0</td>\n",
       "      <td>0</td>\n",
       "      <td>0</td>\n",
       "      <td>0</td>\n",
       "      <td>Willy Santantines</td>\n",
       "      <td>True</td>\n",
       "      <td>0004</td>\n",
       "      <td>1</td>\n",
       "      <td>1.0</td>\n",
       "      <td>1</td>\n",
       "      <td>1091.0</td>\n",
       "      <td>(15.8, 31.6]</td>\n",
       "    </tr>\n",
       "  </tbody>\n",
       "</table>\n",
       "</div>"
      ],
      "text/plain": [
       "  PassengerId  HomePlanet  CryoSleep  Destination  Age  VIP  \\\n",
       "0     0001_01           2          0            0    2    0   \n",
       "1     0002_01           0          0            0    1    0   \n",
       "2     0003_01           2          0            0    3    1   \n",
       "3     0003_02           2          0            0    2    0   \n",
       "4     0004_01           0          0            0    0    0   \n",
       "\n",
       "                Name  Transported Group  Cabin_deck  Cabin_num  Cabin_side  \\\n",
       "0    Maham Ofracculy        False  0001           0        0.0           0   \n",
       "1       Juanna Vines         True  0002           1        0.0           1   \n",
       "2      Altark Susent        False  0003           2        0.0           1   \n",
       "3       Solam Susent        False  0003           2        0.0           1   \n",
       "4  Willy Santantines         True  0004           1        1.0           1   \n",
       "\n",
       "   Amenities       AgeBand  \n",
       "0        0.0  (31.6, 47.4]  \n",
       "1      736.0  (15.8, 31.6]  \n",
       "2    10383.0  (47.4, 63.2]  \n",
       "3     5176.0  (31.6, 47.4]  \n",
       "4     1091.0  (15.8, 31.6]  "
      ]
     },
     "execution_count": 72,
     "metadata": {},
     "output_type": "execute_result"
    }
   ],
   "source": [
    "for dataset in train_test_data:\n",
    "    dataset.loc[ dataset['Age'] <= 16, 'Age'] = 0\n",
    "    dataset.loc[(dataset['Age'] > 16) & (dataset['Age'] <= 32), 'Age'] = 1\n",
    "    dataset.loc[(dataset['Age'] > 32) & (dataset['Age'] <= 47), 'Age'] = 2\n",
    "    dataset.loc[(dataset['Age'] > 47) & (dataset['Age'] <= 63), 'Age'] = 3\n",
    "    dataset.loc[ dataset['Age'] > 63, 'Age'] = 4\n",
    "    \n",
    "train.head()"
   ]
  },
  {
   "cell_type": "markdown",
   "id": "4cd0a4d7-f23f-4e6b-a2f1-ca3b793be8e5",
   "metadata": {
    "papermill": {
     "duration": 0.022583,
     "end_time": "2024-03-01T09:13:40.213168",
     "exception": false,
     "start_time": "2024-03-01T09:13:40.190585",
     "status": "completed"
    },
    "tags": []
   },
   "source": [
    "#### Amenities"
   ]
  },
  {
   "cell_type": "code",
   "execution_count": 73,
   "id": "e27c34b3-ccc5-4752-af46-9bc2246d7c20",
   "metadata": {
    "execution": {
     "iopub.execute_input": "2024-03-01T09:13:40.258417Z",
     "iopub.status.busy": "2024-03-01T09:13:40.257415Z",
     "iopub.status.idle": "2024-03-01T09:13:40.279520Z",
     "shell.execute_reply": "2024-03-01T09:13:40.277506Z"
    },
    "papermill": {
     "duration": 0.046113,
     "end_time": "2024-03-01T09:13:40.281529",
     "exception": false,
     "start_time": "2024-03-01T09:13:40.235416",
     "status": "completed"
    },
    "tags": []
   },
   "outputs": [
    {
     "name": "stdout",
     "output_type": "stream",
     "text": [
      "      AmenitiesBand  Transported\n",
      "0   (-0.001, 643.0]     0.704990\n",
      "1  (643.0, 35987.0]     0.302026\n"
     ]
    }
   ],
   "source": [
    "for dataset in train_test_data:\n",
    "    dataset['AmenitiesBand'] = pd.qcut(train['Amenities'], 2)\n",
    "    \n",
    "print (train[['AmenitiesBand', 'Transported']].groupby(['AmenitiesBand'], as_index=False, observed=False).mean())"
   ]
  },
  {
   "cell_type": "code",
   "execution_count": 74,
   "id": "b3bf17e6-b007-4196-8f25-0a666207b352",
   "metadata": {
    "execution": {
     "iopub.execute_input": "2024-03-01T09:13:40.325133Z",
     "iopub.status.busy": "2024-03-01T09:13:40.325133Z",
     "iopub.status.idle": "2024-03-01T09:13:40.341266Z",
     "shell.execute_reply": "2024-03-01T09:13:40.340276Z"
    },
    "papermill": {
     "duration": 0.03967,
     "end_time": "2024-03-01T09:13:40.342265",
     "exception": false,
     "start_time": "2024-03-01T09:13:40.302595",
     "status": "completed"
    },
    "tags": []
   },
   "outputs": [
    {
     "data": {
      "text/html": [
       "<div>\n",
       "<style scoped>\n",
       "    .dataframe tbody tr th:only-of-type {\n",
       "        vertical-align: middle;\n",
       "    }\n",
       "\n",
       "    .dataframe tbody tr th {\n",
       "        vertical-align: top;\n",
       "    }\n",
       "\n",
       "    .dataframe thead th {\n",
       "        text-align: right;\n",
       "    }\n",
       "</style>\n",
       "<table border=\"1\" class=\"dataframe\">\n",
       "  <thead>\n",
       "    <tr style=\"text-align: right;\">\n",
       "      <th></th>\n",
       "      <th>PassengerId</th>\n",
       "      <th>HomePlanet</th>\n",
       "      <th>CryoSleep</th>\n",
       "      <th>Destination</th>\n",
       "      <th>Age</th>\n",
       "      <th>VIP</th>\n",
       "      <th>Name</th>\n",
       "      <th>Transported</th>\n",
       "      <th>Group</th>\n",
       "      <th>Cabin_deck</th>\n",
       "      <th>Cabin_num</th>\n",
       "      <th>Cabin_side</th>\n",
       "      <th>Amenities</th>\n",
       "      <th>AgeBand</th>\n",
       "      <th>AmenitiesBand</th>\n",
       "    </tr>\n",
       "  </thead>\n",
       "  <tbody>\n",
       "    <tr>\n",
       "      <th>0</th>\n",
       "      <td>0001_01</td>\n",
       "      <td>2</td>\n",
       "      <td>0</td>\n",
       "      <td>0</td>\n",
       "      <td>2</td>\n",
       "      <td>0</td>\n",
       "      <td>Maham Ofracculy</td>\n",
       "      <td>False</td>\n",
       "      <td>0001</td>\n",
       "      <td>0</td>\n",
       "      <td>0.0</td>\n",
       "      <td>0</td>\n",
       "      <td>0.0</td>\n",
       "      <td>(31.6, 47.4]</td>\n",
       "      <td>(-0.001, 643.0]</td>\n",
       "    </tr>\n",
       "    <tr>\n",
       "      <th>1</th>\n",
       "      <td>0002_01</td>\n",
       "      <td>0</td>\n",
       "      <td>0</td>\n",
       "      <td>0</td>\n",
       "      <td>1</td>\n",
       "      <td>0</td>\n",
       "      <td>Juanna Vines</td>\n",
       "      <td>True</td>\n",
       "      <td>0002</td>\n",
       "      <td>1</td>\n",
       "      <td>0.0</td>\n",
       "      <td>1</td>\n",
       "      <td>1.0</td>\n",
       "      <td>(15.8, 31.6]</td>\n",
       "      <td>(643.0, 35987.0]</td>\n",
       "    </tr>\n",
       "    <tr>\n",
       "      <th>2</th>\n",
       "      <td>0003_01</td>\n",
       "      <td>2</td>\n",
       "      <td>0</td>\n",
       "      <td>0</td>\n",
       "      <td>3</td>\n",
       "      <td>1</td>\n",
       "      <td>Altark Susent</td>\n",
       "      <td>False</td>\n",
       "      <td>0003</td>\n",
       "      <td>2</td>\n",
       "      <td>0.0</td>\n",
       "      <td>1</td>\n",
       "      <td>1.0</td>\n",
       "      <td>(47.4, 63.2]</td>\n",
       "      <td>(643.0, 35987.0]</td>\n",
       "    </tr>\n",
       "    <tr>\n",
       "      <th>3</th>\n",
       "      <td>0003_02</td>\n",
       "      <td>2</td>\n",
       "      <td>0</td>\n",
       "      <td>0</td>\n",
       "      <td>2</td>\n",
       "      <td>0</td>\n",
       "      <td>Solam Susent</td>\n",
       "      <td>False</td>\n",
       "      <td>0003</td>\n",
       "      <td>2</td>\n",
       "      <td>0.0</td>\n",
       "      <td>1</td>\n",
       "      <td>1.0</td>\n",
       "      <td>(31.6, 47.4]</td>\n",
       "      <td>(643.0, 35987.0]</td>\n",
       "    </tr>\n",
       "    <tr>\n",
       "      <th>4</th>\n",
       "      <td>0004_01</td>\n",
       "      <td>0</td>\n",
       "      <td>0</td>\n",
       "      <td>0</td>\n",
       "      <td>0</td>\n",
       "      <td>0</td>\n",
       "      <td>Willy Santantines</td>\n",
       "      <td>True</td>\n",
       "      <td>0004</td>\n",
       "      <td>1</td>\n",
       "      <td>1.0</td>\n",
       "      <td>1</td>\n",
       "      <td>1.0</td>\n",
       "      <td>(15.8, 31.6]</td>\n",
       "      <td>(643.0, 35987.0]</td>\n",
       "    </tr>\n",
       "  </tbody>\n",
       "</table>\n",
       "</div>"
      ],
      "text/plain": [
       "  PassengerId  HomePlanet  CryoSleep  Destination  Age  VIP  \\\n",
       "0     0001_01           2          0            0    2    0   \n",
       "1     0002_01           0          0            0    1    0   \n",
       "2     0003_01           2          0            0    3    1   \n",
       "3     0003_02           2          0            0    2    0   \n",
       "4     0004_01           0          0            0    0    0   \n",
       "\n",
       "                Name  Transported Group  Cabin_deck  Cabin_num  Cabin_side  \\\n",
       "0    Maham Ofracculy        False  0001           0        0.0           0   \n",
       "1       Juanna Vines         True  0002           1        0.0           1   \n",
       "2      Altark Susent        False  0003           2        0.0           1   \n",
       "3       Solam Susent        False  0003           2        0.0           1   \n",
       "4  Willy Santantines         True  0004           1        1.0           1   \n",
       "\n",
       "   Amenities       AgeBand     AmenitiesBand  \n",
       "0        0.0  (31.6, 47.4]   (-0.001, 643.0]  \n",
       "1        1.0  (15.8, 31.6]  (643.0, 35987.0]  \n",
       "2        1.0  (47.4, 63.2]  (643.0, 35987.0]  \n",
       "3        1.0  (31.6, 47.4]  (643.0, 35987.0]  \n",
       "4        1.0  (15.8, 31.6]  (643.0, 35987.0]  "
      ]
     },
     "execution_count": 74,
     "metadata": {},
     "output_type": "execute_result"
    }
   ],
   "source": [
    "for dataset in train_test_data:\n",
    "    dataset.loc[ dataset['Amenities'] <= 650, 'Amenities'] = 0\n",
    "    dataset.loc[ dataset['Amenities'] > 650, 'Amenities'] = 1\n",
    "    \n",
    "train.head()"
   ]
  },
  {
   "cell_type": "markdown",
   "id": "0837bc3e-51c9-4f79-8cc0-33c20c795ac0",
   "metadata": {
    "papermill": {
     "duration": 0.020988,
     "end_time": "2024-03-01T09:13:40.386251",
     "exception": false,
     "start_time": "2024-03-01T09:13:40.365263",
     "status": "completed"
    },
    "tags": []
   },
   "source": [
    "## Отбор признаков"
   ]
  },
  {
   "cell_type": "markdown",
   "id": "d0a6e84b-4a6e-4795-9ec3-bc453a20b599",
   "metadata": {
    "papermill": {
     "duration": 0.022289,
     "end_time": "2024-03-01T09:13:40.429594",
     "exception": false,
     "start_time": "2024-03-01T09:13:40.407305",
     "status": "completed"
    },
    "tags": []
   },
   "source": [
    "Удаляем ненужные признаки, столбец PassengerId убираем только из тренировочного набора"
   ]
  },
  {
   "cell_type": "code",
   "execution_count": 75,
   "id": "80a7a7de-6923-4c1e-a70e-c532e1ce86e0",
   "metadata": {
    "execution": {
     "iopub.execute_input": "2024-03-01T09:13:40.475627Z",
     "iopub.status.busy": "2024-03-01T09:13:40.474607Z",
     "iopub.status.idle": "2024-03-01T09:13:40.484607Z",
     "shell.execute_reply": "2024-03-01T09:13:40.483619Z"
    },
    "papermill": {
     "duration": 0.037009,
     "end_time": "2024-03-01T09:13:40.486619",
     "exception": false,
     "start_time": "2024-03-01T09:13:40.449610",
     "status": "completed"
    },
    "tags": []
   },
   "outputs": [],
   "source": [
    "features_drop = ['Name', 'AmenitiesBand', 'Cabin_num', 'AgeBand']\n",
    "train = train.drop(features_drop, axis=1)\n",
    "test = test.drop(features_drop, axis=1)\n",
    "train = train.drop(['PassengerId'], axis=1)"
   ]
  },
  {
   "cell_type": "code",
   "execution_count": 76,
   "id": "7f2ddb6b-3338-436b-8654-f42abb370069",
   "metadata": {
    "execution": {
     "iopub.execute_input": "2024-03-01T09:13:40.530199Z",
     "iopub.status.busy": "2024-03-01T09:13:40.530199Z",
     "iopub.status.idle": "2024-03-01T09:13:40.546303Z",
     "shell.execute_reply": "2024-03-01T09:13:40.545325Z"
    },
    "papermill": {
     "duration": 0.040126,
     "end_time": "2024-03-01T09:13:40.547302",
     "exception": false,
     "start_time": "2024-03-01T09:13:40.507176",
     "status": "completed"
    },
    "tags": []
   },
   "outputs": [
    {
     "data": {
      "text/html": [
       "<div>\n",
       "<style scoped>\n",
       "    .dataframe tbody tr th:only-of-type {\n",
       "        vertical-align: middle;\n",
       "    }\n",
       "\n",
       "    .dataframe tbody tr th {\n",
       "        vertical-align: top;\n",
       "    }\n",
       "\n",
       "    .dataframe thead th {\n",
       "        text-align: right;\n",
       "    }\n",
       "</style>\n",
       "<table border=\"1\" class=\"dataframe\">\n",
       "  <thead>\n",
       "    <tr style=\"text-align: right;\">\n",
       "      <th></th>\n",
       "      <th>HomePlanet</th>\n",
       "      <th>CryoSleep</th>\n",
       "      <th>Destination</th>\n",
       "      <th>Age</th>\n",
       "      <th>VIP</th>\n",
       "      <th>Transported</th>\n",
       "      <th>Group</th>\n",
       "      <th>Cabin_deck</th>\n",
       "      <th>Cabin_side</th>\n",
       "      <th>Amenities</th>\n",
       "    </tr>\n",
       "  </thead>\n",
       "  <tbody>\n",
       "    <tr>\n",
       "      <th>0</th>\n",
       "      <td>2</td>\n",
       "      <td>0</td>\n",
       "      <td>0</td>\n",
       "      <td>2</td>\n",
       "      <td>0</td>\n",
       "      <td>False</td>\n",
       "      <td>0001</td>\n",
       "      <td>0</td>\n",
       "      <td>0</td>\n",
       "      <td>0.0</td>\n",
       "    </tr>\n",
       "    <tr>\n",
       "      <th>1</th>\n",
       "      <td>0</td>\n",
       "      <td>0</td>\n",
       "      <td>0</td>\n",
       "      <td>1</td>\n",
       "      <td>0</td>\n",
       "      <td>True</td>\n",
       "      <td>0002</td>\n",
       "      <td>1</td>\n",
       "      <td>1</td>\n",
       "      <td>1.0</td>\n",
       "    </tr>\n",
       "    <tr>\n",
       "      <th>2</th>\n",
       "      <td>2</td>\n",
       "      <td>0</td>\n",
       "      <td>0</td>\n",
       "      <td>3</td>\n",
       "      <td>1</td>\n",
       "      <td>False</td>\n",
       "      <td>0003</td>\n",
       "      <td>2</td>\n",
       "      <td>1</td>\n",
       "      <td>1.0</td>\n",
       "    </tr>\n",
       "    <tr>\n",
       "      <th>3</th>\n",
       "      <td>2</td>\n",
       "      <td>0</td>\n",
       "      <td>0</td>\n",
       "      <td>2</td>\n",
       "      <td>0</td>\n",
       "      <td>False</td>\n",
       "      <td>0003</td>\n",
       "      <td>2</td>\n",
       "      <td>1</td>\n",
       "      <td>1.0</td>\n",
       "    </tr>\n",
       "    <tr>\n",
       "      <th>4</th>\n",
       "      <td>0</td>\n",
       "      <td>0</td>\n",
       "      <td>0</td>\n",
       "      <td>0</td>\n",
       "      <td>0</td>\n",
       "      <td>True</td>\n",
       "      <td>0004</td>\n",
       "      <td>1</td>\n",
       "      <td>1</td>\n",
       "      <td>1.0</td>\n",
       "    </tr>\n",
       "  </tbody>\n",
       "</table>\n",
       "</div>"
      ],
      "text/plain": [
       "   HomePlanet  CryoSleep  Destination  Age  VIP  Transported Group  \\\n",
       "0           2          0            0    2    0        False  0001   \n",
       "1           0          0            0    1    0         True  0002   \n",
       "2           2          0            0    3    1        False  0003   \n",
       "3           2          0            0    2    0        False  0003   \n",
       "4           0          0            0    0    0         True  0004   \n",
       "\n",
       "   Cabin_deck  Cabin_side  Amenities  \n",
       "0           0           0        0.0  \n",
       "1           1           1        1.0  \n",
       "2           2           1        1.0  \n",
       "3           2           1        1.0  \n",
       "4           1           1        1.0  "
      ]
     },
     "execution_count": 76,
     "metadata": {},
     "output_type": "execute_result"
    }
   ],
   "source": [
    "train.head()"
   ]
  },
  {
   "cell_type": "code",
   "execution_count": 77,
   "id": "4fbbba3b-5288-4c6b-ac59-a7c104b0403a",
   "metadata": {
    "execution": {
     "iopub.execute_input": "2024-03-01T09:13:40.592315Z",
     "iopub.status.busy": "2024-03-01T09:13:40.591325Z",
     "iopub.status.idle": "2024-03-01T09:13:41.018191Z",
     "shell.execute_reply": "2024-03-01T09:13:41.017185Z"
    },
    "papermill": {
     "duration": 0.450883,
     "end_time": "2024-03-01T09:13:41.020185",
     "exception": false,
     "start_time": "2024-03-01T09:13:40.569302",
     "status": "completed"
    },
    "tags": []
   },
   "outputs": [
    {
     "data": {
      "text/plain": [
       "<AxesSubplot:>"
      ]
     },
     "execution_count": 77,
     "metadata": {},
     "output_type": "execute_result"
    },
    {
     "data": {
      "image/png": "[encoded data removed]",
      "text/plain": [
       "<Figure size 1500x900 with 2 Axes>"
      ]
     },
     "metadata": {},
     "output_type": "display_data"
    }
   ],
   "source": [
    "plt.figure(figsize=(15,9))\n",
    "sns.heatmap(train.corr(), vmax=0.6, square=True, annot=True)"
   ]
  },
  {
   "cell_type": "markdown",
   "id": "b60a1242-57a6-4e25-bf5a-e97b9be31534",
   "metadata": {
    "papermill": {
     "duration": 0.022012,
     "end_time": "2024-03-01T09:13:41.065197",
     "exception": false,
     "start_time": "2024-03-01T09:13:41.043185",
     "status": "completed"
    },
    "tags": []
   },
   "source": [
    "Наиболее важные столбцы - столбцы обладающие корелляцией с Transported: HomePlanet, CryoSleep, Destination, Amenities"
   ]
  }
 ],
 "metadata": {
  "kernelspec": {
   "display_name": "Python 3 (ipykernel)",
   "language": "python",
   "name": "python3"
  },
  "language_info": {
   "codemirror_mode": {
    "name": "ipython",
    "version": 3
   },
   "file_extension": ".py",
   "mimetype": "text/x-python",
   "name": "python",
   "nbconvert_exporter": "python",
   "pygments_lexer": "ipython3",
   "version": "3.9.7"
  }
 },
 "nbformat": 4,
 "nbformat_minor": 5
}
